{
 "cells": [
  {
   "cell_type": "code",
   "execution_count": null,
   "id": "e7f2dfc0",
   "metadata": {},
   "outputs": [],
   "source": [
    "import cv2\n",
    "import numpy"
   ]
  },
  {
   "cell_type": "code",
   "execution_count": null,
   "id": "f270f465",
   "metadata": {},
   "outputs": [],
   "source": [
    "#concat images\n",
    "photo1=cv2.imread('image1.jpg')"
   ]
  },
  {
   "cell_type": "code",
   "execution_count": null,
   "id": "ff700926",
   "metadata": {},
   "outputs": [],
   "source": [
    "photo1.shape"
   ]
  },
  {
   "cell_type": "code",
   "execution_count": null,
   "id": "a0bc4ddb",
   "metadata": {},
   "outputs": [],
   "source": [
    "photo2=cv2.imread('image2.jpg')"
   ]
  },
  {
   "cell_type": "code",
   "execution_count": null,
   "id": "d8bc591f",
   "metadata": {},
   "outputs": [],
   "source": [
    "photo2.shape"
   ]
  },
  {
   "cell_type": "code",
   "execution_count": null,
   "id": "dea2ecf8",
   "metadata": {},
   "outputs": [],
   "source": [
    "photo3=cv2.resize(photo1,(150,200))"
   ]
  },
  {
   "cell_type": "code",
   "execution_count": null,
   "id": "d017e42c",
   "metadata": {},
   "outputs": [],
   "source": [
    "photo4=cv2.resize(photo2,(150,200))"
   ]
  },
  {
   "cell_type": "code",
   "execution_count": null,
   "id": "1139423f",
   "metadata": {},
   "outputs": [],
   "source": [
    "c=numpy.hstack((photo3,photo4,photo3))"
   ]
  },
  {
   "cell_type": "code",
   "execution_count": null,
   "id": "5d84df7d",
   "metadata": {},
   "outputs": [],
   "source": [
    "cv2.imshow('collage',c)\n",
    "cv2.waitKey()\n",
    "cv2.destroyAllwindows()"
   ]
  },
  {
   "cell_type": "code",
   "execution_count": null,
   "id": "916d354f",
   "metadata": {},
   "outputs": [],
   "source": [
    "d=numpy.vstack((photo3,photo4,photo3))"
   ]
  },
  {
   "cell_type": "code",
   "execution_count": null,
   "id": "bcfc2b26",
   "metadata": {
    "scrolled": false
   },
   "outputs": [],
   "source": [
    "cv2.imshow('collage1',d)\n",
    "cv2.waitKey()\n",
    "cv2.destroyAllwindows()"
   ]
  },
  {
   "cell_type": "code",
   "execution_count": null,
   "id": "58b023cf",
   "metadata": {},
   "outputs": [],
   "source": [
    "cphoto=photo3[39:75,99:120]\n",
    "cphoto1=photo4[39:75,99:120]"
   ]
  },
  {
   "cell_type": "code",
   "execution_count": null,
   "id": "2b60d011",
   "metadata": {},
   "outputs": [],
   "source": [
    "#swap images\n",
    "temp=numpy.zeros([200,350,3])\n",
    "for i in range(39,75):\n",
    "    for j in range(99,120):\n",
    "        temp[i,j]=photo3[i,j]\n",
    "        photo3[i,j]=photo4[i,j]\n",
    "        photo4[i,j]=temp[i,j]"
   ]
  },
  {
   "cell_type": "code",
   "execution_count": null,
   "id": "2fe576c5",
   "metadata": {},
   "outputs": [],
   "source": [
    "cv2.imshow('pic1',photo3)\n",
    "cv2.waitKey()\n",
    "cv2.imshow('pic2',photo4)\n",
    "cv2.waitKey()\n",
    "cv2.destroyAllwindows()"
   ]
  },
  {
   "cell_type": "code",
   "execution_count": null,
   "id": "ee66d14f",
   "metadata": {},
   "outputs": [],
   "source": []
  }
 ],
 "metadata": {
  "kernelspec": {
   "display_name": "Python 3",
   "language": "python",
   "name": "python3"
  },
  "language_info": {
   "codemirror_mode": {
    "name": "ipython",
    "version": 3
   },
   "file_extension": ".py",
   "mimetype": "text/x-python",
   "name": "python",
   "nbconvert_exporter": "python",
   "pygments_lexer": "ipython3",
   "version": "3.8.8"
  }
 },
 "nbformat": 4,
 "nbformat_minor": 5
}
