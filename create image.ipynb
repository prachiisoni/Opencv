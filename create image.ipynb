{
 "cells": [
  {
   "cell_type": "code",
   "execution_count": null,
   "id": "c6811978",
   "metadata": {},
   "outputs": [],
   "source": [
    "import cv2\n",
    "import numpy"
   ]
  },
  {
   "cell_type": "code",
   "execution_count": null,
   "id": "30aa1d75",
   "metadata": {},
   "outputs": [],
   "source": [
    "#create a image\n",
    "myimage=numpy.zeros([400,500,3])\n",
    "myimage[ : ]=[255,255,255]\n",
    "image=cv2.circle(myimage,(200,150),50,(0,0,255),3)\n",
    "image[200:275,200:203]=[0,0,255]\n",
    "image1=cv2.line(image,(200,220),(160,260),(0,0,255),2)\n",
    "image1=cv2.line(image,(200,220),(240,260),(0,0,255),2)\n",
    "image1=cv2.line(image,(200,274),(160,300),(0,0,255),2)\n",
    "image1=cv2.line(image,(200,274),(240,301),(0,0,255),2)"
   ]
  },
  {
   "cell_type": "code",
   "execution_count": null,
   "id": "cb52b66c",
   "metadata": {},
   "outputs": [],
   "source": [
    "cv2.imshow('hey',image1)\n",
    "cv2.waitKey()\n",
    "cv2.destroyAllwindows()"
   ]
  },
  {
   "cell_type": "code",
   "execution_count": null,
   "id": "144f1ed8",
   "metadata": {},
   "outputs": [],
   "source": []
  },
  {
   "cell_type": "code",
   "execution_count": null,
   "id": "c66d5d96",
   "metadata": {},
   "outputs": [],
   "source": []
  }
 ],
 "metadata": {
  "kernelspec": {
   "display_name": "Python 3",
   "language": "python",
   "name": "python3"
  },
  "language_info": {
   "codemirror_mode": {
    "name": "ipython",
    "version": 3
   },
   "file_extension": ".py",
   "mimetype": "text/x-python",
   "name": "python",
   "nbconvert_exporter": "python",
   "pygments_lexer": "ipython3",
   "version": "3.8.8"
  }
 },
 "nbformat": 4,
 "nbformat_minor": 5
}
